{
 "cells": [
  {
   "cell_type": "markdown",
   "metadata": {
    "id": "MusV5YYT6kQF"
   },
   "source": [
    "# 순환 신경망으로 IMDB 리뷰 분류하기"
   ]
  },
  {
   "cell_type": "markdown",
   "metadata": {
    "id": "9uYfRb5-6kQQ"
   },
   "source": [
    "<table align=\"left\">\n",
    "  <td>\n",
    "    <a target=\"_blank\" href=\"https://colab.research.google.com/github/rickiepark/hg-mldl/blob/master/9-2.ipynb\"><img src=\"https://www.tensorflow.org/images/colab_logo_32px.png\" />구글 코랩에서 실행하기</a>\n",
    "  </td>\n",
    "</table>"
   ]
  },
  {
   "cell_type": "code",
   "execution_count": 1,
   "metadata": {},
   "outputs": [],
   "source": [
    "# 실행마다 동일한 결과를 얻기 위해 케라스에 랜덤 시드를 사용하고 텐서플로 연산을 결정적으로 만듭니다. \n",
    "import tensorflow as tf\n",
    "\n",
    "tf.keras.utils.set_random_seed(42)\n",
    "tf.config.experimental.enable_op_determinism()"
   ]
  },
  {
   "cell_type": "markdown",
   "metadata": {
    "id": "S1A-DDIQ6kQQ"
   },
   "source": [
    "## IMDB 리뷰 데이터셋"
   ]
  },
  {
   "cell_type": "code",
   "execution_count": 2,
   "metadata": {
    "colab": {
     "base_uri": "https://localhost:8080/"
    },
    "id": "sZoZm1ZO6kQR",
    "outputId": "c340dd55-629f-4615-db76-9c06bc46e2c2"
   },
   "outputs": [],
   "source": [
    "from tensorflow.keras.datasets import imdb\n",
    "\n",
    "(train_input, train_target), (test_input, test_target) = imdb.load_data(\n",
    "    num_words=500)"
   ]
  },
  {
   "cell_type": "code",
   "execution_count": 3,
   "metadata": {
    "colab": {
     "base_uri": "https://localhost:8080/"
    },
    "id": "HTFjz6k06kQR",
    "outputId": "1d4929d7-0a93-4bb8-cf03-682ada3d6ac9"
   },
   "outputs": [
    {
     "name": "stdout",
     "output_type": "stream",
     "text": [
      "(25000,) (25000,)\n"
     ]
    }
   ],
   "source": [
    "print(train_input.shape, test_input.shape)"
   ]
  },
  {
   "cell_type": "code",
   "execution_count": 4,
   "metadata": {
    "colab": {
     "base_uri": "https://localhost:8080/"
    },
    "id": "4jMLURzw6kQS",
    "outputId": "ffb635f3-a3bd-42ed-b6da-fecaa0ede408"
   },
   "outputs": [
    {
     "name": "stdout",
     "output_type": "stream",
     "text": [
      "218\n"
     ]
    }
   ],
   "source": [
    "print(len(train_input[0]))"
   ]
  },
  {
   "cell_type": "code",
   "execution_count": 5,
   "metadata": {
    "colab": {
     "base_uri": "https://localhost:8080/"
    },
    "id": "xdO834PL6kQT",
    "outputId": "28ba2580-b6b8-49b0-e07e-4df8026a5626"
   },
   "outputs": [
    {
     "name": "stdout",
     "output_type": "stream",
     "text": [
      "189\n"
     ]
    }
   ],
   "source": [
    "print(len(train_input[1]))"
   ]
  },
  {
   "cell_type": "code",
   "execution_count": 6,
   "metadata": {
    "colab": {
     "base_uri": "https://localhost:8080/"
    },
    "id": "QNuzGQ2c6kQT",
    "outputId": "88f7dd8c-188e-4ad9-edb2-f4b59c498d40"
   },
   "outputs": [
    {
     "name": "stdout",
     "output_type": "stream",
     "text": [
      "[1, 14, 22, 16, 43, 2, 2, 2, 2, 65, 458, 2, 66, 2, 4, 173, 36, 256, 5, 25, 100, 43, 2, 112, 50, 2, 2, 9, 35, 480, 284, 5, 150, 4, 172, 112, 167, 2, 336, 385, 39, 4, 172, 2, 2, 17, 2, 38, 13, 447, 4, 192, 50, 16, 6, 147, 2, 19, 14, 22, 4, 2, 2, 469, 4, 22, 71, 87, 12, 16, 43, 2, 38, 76, 15, 13, 2, 4, 22, 17, 2, 17, 12, 16, 2, 18, 2, 5, 62, 386, 12, 8, 316, 8, 106, 5, 4, 2, 2, 16, 480, 66, 2, 33, 4, 130, 12, 16, 38, 2, 5, 25, 124, 51, 36, 135, 48, 25, 2, 33, 6, 22, 12, 215, 28, 77, 52, 5, 14, 407, 16, 82, 2, 8, 4, 107, 117, 2, 15, 256, 4, 2, 7, 2, 5, 2, 36, 71, 43, 2, 476, 26, 400, 317, 46, 7, 4, 2, 2, 13, 104, 88, 4, 381, 15, 297, 98, 32, 2, 56, 26, 141, 6, 194, 2, 18, 4, 226, 22, 21, 134, 476, 26, 480, 5, 144, 30, 2, 18, 51, 36, 28, 224, 92, 25, 104, 4, 226, 65, 16, 38, 2, 88, 12, 16, 283, 5, 16, 2, 113, 103, 32, 15, 16, 2, 19, 178, 32]\n"
     ]
    }
   ],
   "source": [
    "print(train_input[0])"
   ]
  },
  {
   "cell_type": "code",
   "execution_count": 7,
   "metadata": {
    "colab": {
     "base_uri": "https://localhost:8080/"
    },
    "id": "In8Qzltz6kQT",
    "outputId": "78b5ddc6-d634-4755-9435-25cc8f2c9462"
   },
   "outputs": [
    {
     "name": "stdout",
     "output_type": "stream",
     "text": [
      "[1 0 0 1 0 0 1 0 1 0 1 0 0 0 0 0 1 1 0 1]\n"
     ]
    }
   ],
   "source": [
    "print(train_target[:20])"
   ]
  },
  {
   "cell_type": "code",
   "execution_count": 8,
   "metadata": {
    "id": "0-zjNgBw6kQU"
   },
   "outputs": [],
   "source": [
    "from sklearn.model_selection import train_test_split\n",
    "\n",
    "train_input, val_input, train_target, val_target = train_test_split(\n",
    "    train_input, train_target, test_size=0.2, random_state=42)"
   ]
  },
  {
   "cell_type": "code",
   "execution_count": 9,
   "metadata": {
    "id": "sRVvgntx6kQU"
   },
   "outputs": [],
   "source": [
    "import numpy as np\n",
    "\n",
    "lengths = np.array([len(x) for x in train_input])"
   ]
  },
  {
   "cell_type": "code",
   "execution_count": 10,
   "metadata": {
    "colab": {
     "base_uri": "https://localhost:8080/"
    },
    "id": "p76m_61w6kQU",
    "outputId": "04b533f6-45ef-4514-d87d-b484a89afde6"
   },
   "outputs": [
    {
     "name": "stdout",
     "output_type": "stream",
     "text": [
      "239.00925 178.0\n"
     ]
    }
   ],
   "source": [
    "print(np.mean(lengths), np.median(lengths))"
   ]
  },
  {
   "cell_type": "code",
   "execution_count": 11,
   "metadata": {
    "colab": {
     "base_uri": "https://localhost:8080/",
     "height": 279
    },
    "id": "TVDrsRYF6kQV",
    "outputId": "2610932c-ac31-480b-8a6c-fd5ac2793a34"
   },
   "outputs": [
    {
     "data": {
      "image/png": "[encoded data removed]",
      "text/plain": [
       "<Figure size 432x288 with 1 Axes>"
      ]
     },
     "metadata": {
      "needs_background": "light"
     },
     "output_type": "display_data"
    }
   ],
   "source": [
    "import matplotlib.pyplot as plt\n",
    "\n",
    "plt.hist(lengths)\n",
    "plt.xlabel('length')\n",
    "plt.ylabel('frequency')\n",
    "plt.show()"
   ]
  },
  {
   "cell_type": "code",
   "execution_count": 12,
   "metadata": {
    "id": "fbLSFToP6kQV"
   },
   "outputs": [],
   "source": [
    "from tensorflow.keras.preprocessing.sequence import pad_sequences\n",
    "\n",
    "train_seq = pad_sequences(train_input, maxlen=100)"
   ]
  },
  {
   "cell_type": "code",
   "execution_count": 13,
   "metadata": {
    "colab": {
     "base_uri": "https://localhost:8080/"
    },
    "id": "3c86x0Yj6kQV",
    "outputId": "52d4ff3a-9aa5-4ebd-e086-d9b2d490a29f"
   },
   "outputs": [
    {
     "name": "stdout",
     "output_type": "stream",
     "text": [
      "(20000, 100)\n"
     ]
    }
   ],
   "source": [
    "print(train_seq.shape)"
   ]
  },
  {
   "cell_type": "code",
   "execution_count": 14,
   "metadata": {
    "colab": {
     "base_uri": "https://localhost:8080/"
    },
    "id": "JuP0QJaU6kQW",
    "outputId": "95e6521e-b200-4733-f5e8-65320ff2a81f"
   },
   "outputs": [
    {
     "name": "stdout",
     "output_type": "stream",
     "text": [
      "[ 10   4  20   9   2 364 352   5  45   6   2   2  33 269   8   2 142   2\n",
      "   5   2  17  73  17 204   5   2  19  55   2   2  92  66 104  14  20  93\n",
      "  76   2 151  33   4  58  12 188   2 151  12 215  69 224 142  73 237   6\n",
      "   2   7   2   2 188   2 103  14  31  10  10 451   7   2   5   2  80  91\n",
      "   2  30   2  34  14  20 151  50  26 131  49   2  84  46  50  37  80  79\n",
      "   6   2  46   7  14  20  10  10 470 158]\n"
     ]
    }
   ],
   "source": [
    "print(train_seq[0])"
   ]
  },
  {
   "cell_type": "code",
   "execution_count": 15,
   "metadata": {
    "colab": {
     "base_uri": "https://localhost:8080/"
    },
    "id": "6t8kaDji6kQW",
    "outputId": "a9d5ba15-838d-4cac-c23c-18c2fa4b709f"
   },
   "outputs": [
    {
     "name": "stdout",
     "output_type": "stream",
     "text": [
      "[6, 2, 46, 7, 14, 20, 10, 10, 470, 158]\n"
     ]
    }
   ],
   "source": [
    "print(train_input[0][-10:])"
   ]
  },
  {
   "cell_type": "code",
   "execution_count": 16,
   "metadata": {
    "colab": {
     "base_uri": "https://localhost:8080/"
    },
    "id": "Emmoztwa6kQX",
    "outputId": "d72b6139-e876-41a1-b331-313d3199548a",
    "scrolled": true
   },
   "outputs": [
    {
     "name": "stdout",
     "output_type": "stream",
     "text": [
      "[  0   0   0   0   1   2 195  19  49   2   2 190   4   2 352   2 183  10\n",
      "  10  13  82  79   4   2  36  71 269   8   2  25  19  49   7   4   2   2\n",
      "   2   2   2  10  10  48  25  40   2  11   2   2  40   2   2   5   4   2\n",
      "   2  95  14 238  56 129   2  10  10  21   2  94 364 352   2   2  11 190\n",
      "  24 484   2   7  94 205 405  10  10  87   2  34  49   2   7   2   2   2\n",
      "   2   2 290   2  46  48  64  18   4   2]\n"
     ]
    }
   ],
   "source": [
    "print(train_seq[5])"
   ]
  },
  {
   "cell_type": "code",
   "execution_count": 17,
   "metadata": {
    "id": "ZeFmsjOd6kQX"
   },
   "outputs": [],
   "source": [
    "val_seq = pad_sequences(val_input, maxlen=100)"
   ]
  },
  {
   "cell_type": "markdown",
   "metadata": {
    "id": "9xab0nu_6kQX"
   },
   "source": [
    "## 순환 신경망 만들기"
   ]
  },
  {
   "cell_type": "code",
   "execution_count": 18,
   "metadata": {
    "id": "45BtHGKX6kQX"
   },
   "outputs": [
    {
     "name": "stderr",
     "output_type": "stream",
     "text": [
      "2022-05-19 01:29:37.910635: I tensorflow/core/platform/cpu_feature_guard.cc:193] This TensorFlow binary is optimized with oneAPI Deep Neural Network Library (oneDNN) to use the following CPU instructions in performance-critical operations:  AVX2 AVX512F FMA\n",
      "To enable them in other operations, rebuild TensorFlow with the appropriate compiler flags.\n"
     ]
    }
   ],
   "source": [
    "from tensorflow import keras\n",
    "\n",
    "model = keras.Sequential()\n",
    "\n",
    "model.add(keras.layers.SimpleRNN(8, input_shape=(100, 500)))\n",
    "model.add(keras.layers.Dense(1, activation='sigmoid'))"
   ]
  },
  {
   "cell_type": "code",
   "execution_count": 19,
   "metadata": {
    "id": "oXIWyOuw6kQY"
   },
   "outputs": [],
   "source": [
    "train_oh = keras.utils.to_categorical(train_seq)"
   ]
  },
  {
   "cell_type": "code",
   "execution_count": 20,
   "metadata": {
    "colab": {
     "base_uri": "https://localhost:8080/"
    },
    "id": "VD94WiRT6kQY",
    "outputId": "d2074cc9-cdb3-4c73-e9ca-1318fdd34034"
   },
   "outputs": [
    {
     "name": "stdout",
     "output_type": "stream",
     "text": [
      "(20000, 100, 500)\n"
     ]
    }
   ],
   "source": [
    "print(train_oh.shape)"
   ]
  },
  {
   "cell_type": "code",
   "execution_count": 21,
   "metadata": {
    "colab": {
     "base_uri": "https://localhost:8080/"
    },
    "id": "VIVSHwJg6kQY",
    "outputId": "972653fa-6acd-405d-d1ee-2422708f9863"
   },
   "outputs": [
    {
     "name": "stdout",
     "output_type": "stream",
     "text": [
      "[0. 0. 0. 0. 0. 0. 0. 0. 0. 0. 1. 0.]\n"
     ]
    }
   ],
   "source": [
    "print(train_oh[0][0][:12])"
   ]
  },
  {
   "cell_type": "code",
   "execution_count": 22,
   "metadata": {
    "colab": {
     "base_uri": "https://localhost:8080/"
    },
    "id": "CP3ivii46kQZ",
    "outputId": "6a669f1a-41fe-486a-e0e1-bd812d2b7aeb"
   },
   "outputs": [
    {
     "name": "stdout",
     "output_type": "stream",
     "text": [
      "1.0\n"
     ]
    }
   ],
   "source": [
    "print(np.sum(train_oh[0][0]))"
   ]
  },
  {
   "cell_type": "code",
   "execution_count": 23,
   "metadata": {
    "id": "vgijH6m26kQZ"
   },
   "outputs": [],
   "source": [
    "val_oh = keras.utils.to_categorical(val_seq)"
   ]
  },
  {
   "cell_type": "code",
   "execution_count": 24,
   "metadata": {
    "colab": {
     "base_uri": "https://localhost:8080/"
    },
    "id": "0V0Svpuf6kQZ",
    "outputId": "34f0dd62-57da-4907-8032-9bb2655a986e"
   },
   "outputs": [
    {
     "name": "stdout",
     "output_type": "stream",
     "text": [
      "Model: \"sequential\"\n",
      "_________________________________________________________________\n",
      " Layer (type)                Output Shape              Param #   \n",
      "=================================================================\n",
      " simple_rnn (SimpleRNN)      (None, 8)                 4072      \n",
      "                                                                 \n",
      " dense (Dense)               (None, 1)                 9         \n",
      "                                                                 \n",
      "=================================================================\n",
      "Total params: 4,081\n",
      "Trainable params: 4,081\n",
      "Non-trainable params: 0\n",
      "_________________________________________________________________\n"
     ]
    }
   ],
   "source": [
    "model.summary()"
   ]
  },
  {
   "cell_type": "markdown",
   "metadata": {
    "id": "S22Hc-7L6kQZ"
   },
   "source": [
    "## 순환 신경망 훈련하기"
   ]
  },
  {
   "cell_type": "code",
   "execution_count": 25,
   "metadata": {
    "colab": {
     "base_uri": "https://localhost:8080/"
    },
    "id": "YcwM299t6kQZ",
    "outputId": "257518bf-52ab-49d8-aa91-3c2e606ffd74"
   },
   "outputs": [
    {
     "name": "stderr",
     "output_type": "stream",
     "text": [
      "2022-05-19 01:29:41.697697: W tensorflow/core/framework/cpu_allocator_impl.cc:82] Allocation of 4000000000 exceeds 10% of free system memory.\n",
      "2022-05-19 01:29:45.305189: W tensorflow/core/framework/cpu_allocator_impl.cc:82] Allocation of 4000000000 exceeds 10% of free system memory.\n"
     ]
    },
    {
     "name": "stdout",
     "output_type": "stream",
     "text": [
      "Epoch 1/100\n",
      "313/313 [==============================] - 16s 49ms/step - loss: 0.6989 - accuracy: 0.5041 - val_loss: 0.6978 - val_accuracy: 0.5038\n",
      "Epoch 2/100\n",
      "313/313 [==============================] - 13s 40ms/step - loss: 0.6946 - accuracy: 0.5102 - val_loss: 0.6949 - val_accuracy: 0.5102\n",
      "Epoch 3/100\n",
      "313/313 [==============================] - 12s 39ms/step - loss: 0.6920 - accuracy: 0.5200 - val_loss: 0.6930 - val_accuracy: 0.5146\n",
      "Epoch 4/100\n",
      "313/313 [==============================] - 12s 39ms/step - loss: 0.6901 - accuracy: 0.5302 - val_loss: 0.6916 - val_accuracy: 0.5230\n",
      "Epoch 5/100\n",
      "313/313 [==============================] - 13s 41ms/step - loss: 0.6883 - accuracy: 0.5408 - val_loss: 0.6905 - val_accuracy: 0.5270\n",
      "Epoch 6/100\n",
      "313/313 [==============================] - 12s 40ms/step - loss: 0.6866 - accuracy: 0.5472 - val_loss: 0.6894 - val_accuracy: 0.5356\n",
      "Epoch 7/100\n",
      "313/313 [==============================] - 13s 41ms/step - loss: 0.6845 - accuracy: 0.5563 - val_loss: 0.6880 - val_accuracy: 0.5416\n",
      "Epoch 8/100\n",
      "313/313 [==============================] - 12s 39ms/step - loss: 0.6819 - accuracy: 0.5659 - val_loss: 0.6856 - val_accuracy: 0.5482\n",
      "Epoch 9/100\n",
      "313/313 [==============================] - 12s 39ms/step - loss: 0.6777 - accuracy: 0.5828 - val_loss: 0.6807 - val_accuracy: 0.5726\n",
      "Epoch 10/100\n",
      "313/313 [==============================] - 12s 39ms/step - loss: 0.6614 - accuracy: 0.6260 - val_loss: 0.6585 - val_accuracy: 0.6240\n",
      "Epoch 11/100\n",
      "313/313 [==============================] - 12s 39ms/step - loss: 0.6407 - accuracy: 0.6652 - val_loss: 0.6422 - val_accuracy: 0.6584\n",
      "Epoch 12/100\n",
      "313/313 [==============================] - 12s 39ms/step - loss: 0.6274 - accuracy: 0.6837 - val_loss: 0.6299 - val_accuracy: 0.6698\n",
      "Epoch 13/100\n",
      "313/313 [==============================] - 12s 39ms/step - loss: 0.6138 - accuracy: 0.6988 - val_loss: 0.6193 - val_accuracy: 0.6858\n",
      "Epoch 14/100\n",
      "313/313 [==============================] - 12s 39ms/step - loss: 0.6008 - accuracy: 0.7104 - val_loss: 0.6199 - val_accuracy: 0.6698\n",
      "Epoch 15/100\n",
      "313/313 [==============================] - 12s 39ms/step - loss: 0.5892 - accuracy: 0.7188 - val_loss: 0.5971 - val_accuracy: 0.7026\n",
      "Epoch 16/100\n",
      "313/313 [==============================] - 12s 40ms/step - loss: 0.5765 - accuracy: 0.7301 - val_loss: 0.5867 - val_accuracy: 0.7096\n",
      "Epoch 17/100\n",
      "313/313 [==============================] - 13s 40ms/step - loss: 0.5657 - accuracy: 0.7352 - val_loss: 0.5760 - val_accuracy: 0.7204\n",
      "Epoch 18/100\n",
      "313/313 [==============================] - 13s 41ms/step - loss: 0.5549 - accuracy: 0.7454 - val_loss: 0.5649 - val_accuracy: 0.7332\n",
      "Epoch 19/100\n",
      "313/313 [==============================] - 12s 39ms/step - loss: 0.5454 - accuracy: 0.7501 - val_loss: 0.5567 - val_accuracy: 0.7356\n",
      "Epoch 20/100\n",
      "313/313 [==============================] - 13s 41ms/step - loss: 0.5353 - accuracy: 0.7552 - val_loss: 0.5473 - val_accuracy: 0.7416\n",
      "Epoch 21/100\n",
      "313/313 [==============================] - 12s 39ms/step - loss: 0.5259 - accuracy: 0.7626 - val_loss: 0.5372 - val_accuracy: 0.7474\n",
      "Epoch 22/100\n",
      "313/313 [==============================] - 13s 40ms/step - loss: 0.5169 - accuracy: 0.7656 - val_loss: 0.5294 - val_accuracy: 0.7516\n",
      "Epoch 23/100\n",
      "313/313 [==============================] - 12s 39ms/step - loss: 0.5095 - accuracy: 0.7691 - val_loss: 0.5308 - val_accuracy: 0.7488\n",
      "Epoch 24/100\n",
      "313/313 [==============================] - 12s 39ms/step - loss: 0.4996 - accuracy: 0.7755 - val_loss: 0.5206 - val_accuracy: 0.7546\n",
      "Epoch 25/100\n",
      "313/313 [==============================] - 12s 39ms/step - loss: 0.4941 - accuracy: 0.7775 - val_loss: 0.5161 - val_accuracy: 0.7592\n",
      "Epoch 26/100\n",
      "313/313 [==============================] - 13s 41ms/step - loss: 0.4870 - accuracy: 0.7818 - val_loss: 0.5096 - val_accuracy: 0.7598\n",
      "Epoch 27/100\n",
      "313/313 [==============================] - 12s 39ms/step - loss: 0.4817 - accuracy: 0.7847 - val_loss: 0.5041 - val_accuracy: 0.7640\n",
      "Epoch 28/100\n",
      "313/313 [==============================] - 13s 40ms/step - loss: 0.4763 - accuracy: 0.7866 - val_loss: 0.5090 - val_accuracy: 0.7576\n",
      "Epoch 29/100\n",
      "313/313 [==============================] - 13s 40ms/step - loss: 0.4734 - accuracy: 0.7883 - val_loss: 0.5006 - val_accuracy: 0.7636\n",
      "Epoch 30/100\n",
      "313/313 [==============================] - 12s 40ms/step - loss: 0.4681 - accuracy: 0.7911 - val_loss: 0.4994 - val_accuracy: 0.7678\n",
      "Epoch 31/100\n",
      "313/313 [==============================] - 12s 39ms/step - loss: 0.4650 - accuracy: 0.7930 - val_loss: 0.4977 - val_accuracy: 0.7674\n",
      "Epoch 32/100\n",
      "313/313 [==============================] - 13s 41ms/step - loss: 0.4609 - accuracy: 0.7953 - val_loss: 0.4926 - val_accuracy: 0.7698\n",
      "Epoch 33/100\n",
      "313/313 [==============================] - 12s 39ms/step - loss: 0.4565 - accuracy: 0.7997 - val_loss: 0.4908 - val_accuracy: 0.7704\n",
      "Epoch 34/100\n",
      "313/313 [==============================] - 12s 39ms/step - loss: 0.4547 - accuracy: 0.7986 - val_loss: 0.4929 - val_accuracy: 0.7648\n",
      "Epoch 35/100\n",
      "313/313 [==============================] - 12s 39ms/step - loss: 0.4521 - accuracy: 0.8000 - val_loss: 0.4871 - val_accuracy: 0.7722\n",
      "Epoch 36/100\n",
      "313/313 [==============================] - 12s 39ms/step - loss: 0.4489 - accuracy: 0.8030 - val_loss: 0.4852 - val_accuracy: 0.7744\n",
      "Epoch 37/100\n",
      "313/313 [==============================] - 12s 39ms/step - loss: 0.4465 - accuracy: 0.8054 - val_loss: 0.4874 - val_accuracy: 0.7670\n",
      "Epoch 38/100\n",
      "313/313 [==============================] - 12s 39ms/step - loss: 0.4450 - accuracy: 0.8039 - val_loss: 0.4829 - val_accuracy: 0.7734\n",
      "Epoch 39/100\n",
      "313/313 [==============================] - 12s 39ms/step - loss: 0.4428 - accuracy: 0.8058 - val_loss: 0.4822 - val_accuracy: 0.7760\n",
      "Epoch 40/100\n",
      "313/313 [==============================] - 13s 41ms/step - loss: 0.4399 - accuracy: 0.8077 - val_loss: 0.5047 - val_accuracy: 0.7638\n",
      "Epoch 41/100\n",
      "313/313 [==============================] - 12s 39ms/step - loss: 0.4381 - accuracy: 0.8098 - val_loss: 0.4798 - val_accuracy: 0.7796\n",
      "Epoch 42/100\n",
      "313/313 [==============================] - 13s 40ms/step - loss: 0.4368 - accuracy: 0.8094 - val_loss: 0.4810 - val_accuracy: 0.7766\n",
      "Epoch 43/100\n",
      "313/313 [==============================] - 13s 40ms/step - loss: 0.4352 - accuracy: 0.8105 - val_loss: 0.4810 - val_accuracy: 0.7800\n",
      "Epoch 44/100\n",
      "313/313 [==============================] - 12s 40ms/step - loss: 0.4330 - accuracy: 0.8107 - val_loss: 0.4757 - val_accuracy: 0.7778\n",
      "Epoch 45/100\n",
      "313/313 [==============================] - 13s 41ms/step - loss: 0.4315 - accuracy: 0.8122 - val_loss: 0.4832 - val_accuracy: 0.7786\n",
      "Epoch 46/100\n",
      "313/313 [==============================] - 12s 39ms/step - loss: 0.4293 - accuracy: 0.8141 - val_loss: 0.4741 - val_accuracy: 0.7786\n",
      "Epoch 47/100\n",
      "313/313 [==============================] - 12s 40ms/step - loss: 0.4285 - accuracy: 0.8131 - val_loss: 0.4734 - val_accuracy: 0.7760\n",
      "Epoch 48/100\n",
      "313/313 [==============================] - 13s 40ms/step - loss: 0.4266 - accuracy: 0.8152 - val_loss: 0.4728 - val_accuracy: 0.7776\n",
      "Epoch 49/100\n",
      "313/313 [==============================] - 12s 39ms/step - loss: 0.4253 - accuracy: 0.8148 - val_loss: 0.4699 - val_accuracy: 0.7792\n",
      "Epoch 50/100\n",
      "313/313 [==============================] - 12s 39ms/step - loss: 0.4235 - accuracy: 0.8175 - val_loss: 0.4681 - val_accuracy: 0.7824\n",
      "Epoch 51/100\n",
      "313/313 [==============================] - 13s 40ms/step - loss: 0.4223 - accuracy: 0.8170 - val_loss: 0.4685 - val_accuracy: 0.7824\n",
      "Epoch 52/100\n",
      "313/313 [==============================] - 12s 39ms/step - loss: 0.4206 - accuracy: 0.8194 - val_loss: 0.4667 - val_accuracy: 0.7812\n",
      "Epoch 53/100\n",
      "313/313 [==============================] - 12s 39ms/step - loss: 0.4196 - accuracy: 0.8188 - val_loss: 0.4767 - val_accuracy: 0.7806\n",
      "Epoch 54/100\n",
      "313/313 [==============================] - 12s 40ms/step - loss: 0.4186 - accuracy: 0.8191 - val_loss: 0.4655 - val_accuracy: 0.7836\n",
      "Epoch 55/100\n",
      "313/313 [==============================] - 13s 40ms/step - loss: 0.4174 - accuracy: 0.8205 - val_loss: 0.4640 - val_accuracy: 0.7828\n",
      "Epoch 56/100\n",
      "313/313 [==============================] - 12s 39ms/step - loss: 0.4162 - accuracy: 0.8209 - val_loss: 0.4626 - val_accuracy: 0.7852\n",
      "Epoch 57/100\n",
      "313/313 [==============================] - 12s 39ms/step - loss: 0.4148 - accuracy: 0.8205 - val_loss: 0.4615 - val_accuracy: 0.7860\n",
      "Epoch 58/100\n",
      "313/313 [==============================] - 13s 40ms/step - loss: 0.4133 - accuracy: 0.8212 - val_loss: 0.4629 - val_accuracy: 0.7842\n",
      "Epoch 59/100\n",
      "313/313 [==============================] - 12s 39ms/step - loss: 0.4121 - accuracy: 0.8220 - val_loss: 0.4652 - val_accuracy: 0.7830\n",
      "Epoch 60/100\n",
      "313/313 [==============================] - 13s 40ms/step - loss: 0.4113 - accuracy: 0.8225 - val_loss: 0.4619 - val_accuracy: 0.7872\n"
     ]
    }
   ],
   "source": [
    "rmsprop = keras.optimizers.RMSprop(learning_rate=1e-4)\n",
    "model.compile(optimizer=rmsprop, loss='binary_crossentropy', \n",
    "              metrics=['accuracy'])\n",
    "\n",
    "checkpoint_cb = keras.callbacks.ModelCheckpoint('best-simplernn-model.h5', \n",
    "                                                save_best_only=True)\n",
    "early_stopping_cb = keras.callbacks.EarlyStopping(patience=3,\n",
    "                                                  restore_best_weights=True)\n",
    "\n",
    "history = model.fit(train_oh, train_target, epochs=100, batch_size=64,\n",
    "                    validation_data=(val_oh, val_target),\n",
    "                    callbacks=[checkpoint_cb, early_stopping_cb])"
   ]
  },
  {
   "cell_type": "code",
   "execution_count": 26,
   "metadata": {
    "colab": {
     "base_uri": "https://localhost:8080/",
     "height": 279
    },
    "id": "YS_5tIG26kQa",
    "outputId": "7affeec2-15fb-4217-daa5-2c8ef2f8a74b"
   },
   "outputs": [
    {
     "data": {
      "image/png": "[encoded data removed]",
      "text/plain": [
       "<Figure size 432x288 with 1 Axes>"
      ]
     },
     "metadata": {
      "needs_background": "light"
     },
     "output_type": "display_data"
    }
   ],
   "source": [
    "plt.plot(history.history['loss'])\n",
    "plt.plot(history.history['val_loss'])\n",
    "plt.xlabel('epoch')\n",
    "plt.ylabel('loss')\n",
    "plt.legend(['train', 'val'])\n",
    "plt.show()"
   ]
  },
  {
   "cell_type": "markdown",
   "metadata": {
    "id": "K_U_lVie6kQa"
   },
   "source": [
    "## 단어 임베딩을 사용하기"
   ]
  },
  {
   "cell_type": "code",
   "execution_count": 27,
   "metadata": {
    "colab": {
     "base_uri": "https://localhost:8080/"
    },
    "id": "Ofl-Ifev6kQa",
    "outputId": "5446f8dd-845c-4fea-eb3a-a8887f010da0"
   },
   "outputs": [
    {
     "name": "stdout",
     "output_type": "stream",
     "text": [
      "Model: \"sequential_1\"\n",
      "_________________________________________________________________\n",
      " Layer (type)                Output Shape              Param #   \n",
      "=================================================================\n",
      " embedding (Embedding)       (None, 100, 16)           8000      \n",
      "                                                                 \n",
      " simple_rnn_1 (SimpleRNN)    (None, 8)                 200       \n",
      "                                                                 \n",
      " dense_1 (Dense)             (None, 1)                 9         \n",
      "                                                                 \n",
      "=================================================================\n",
      "Total params: 8,209\n",
      "Trainable params: 8,209\n",
      "Non-trainable params: 0\n",
      "_________________________________________________________________\n"
     ]
    }
   ],
   "source": [
    "model2 = keras.Sequential()\n",
    "\n",
    "model2.add(keras.layers.Embedding(500, 16, input_length=100))\n",
    "model2.add(keras.layers.SimpleRNN(8))\n",
    "model2.add(keras.layers.Dense(1, activation='sigmoid'))\n",
    "\n",
    "model2.summary()"
   ]
  },
  {
   "cell_type": "code",
   "execution_count": 28,
   "metadata": {
    "colab": {
     "base_uri": "https://localhost:8080/"
    },
    "id": "78TUrJAs6kQa",
    "outputId": "ee782c94-cf81-4add-e0a9-5290b91bd2bf"
   },
   "outputs": [
    {
     "name": "stdout",
     "output_type": "stream",
     "text": [
      "Epoch 1/100\n",
      "313/313 [==============================] - 11s 32ms/step - loss: 0.6949 - accuracy: 0.5066 - val_loss: 0.6933 - val_accuracy: 0.5052\n",
      "Epoch 2/100\n",
      "313/313 [==============================] - 10s 31ms/step - loss: 0.6914 - accuracy: 0.5254 - val_loss: 0.6914 - val_accuracy: 0.5242\n",
      "Epoch 3/100\n",
      "313/313 [==============================] - 10s 31ms/step - loss: 0.6888 - accuracy: 0.5439 - val_loss: 0.6877 - val_accuracy: 0.5494\n",
      "Epoch 4/100\n",
      "313/313 [==============================] - 10s 31ms/step - loss: 0.6793 - accuracy: 0.6054 - val_loss: 0.6740 - val_accuracy: 0.6298\n",
      "Epoch 5/100\n",
      "313/313 [==============================] - 10s 31ms/step - loss: 0.6614 - accuracy: 0.6688 - val_loss: 0.6551 - val_accuracy: 0.6850\n",
      "Epoch 6/100\n",
      "313/313 [==============================] - 10s 31ms/step - loss: 0.6404 - accuracy: 0.7049 - val_loss: 0.6353 - val_accuracy: 0.7046\n",
      "Epoch 7/100\n",
      "313/313 [==============================] - 10s 31ms/step - loss: 0.6205 - accuracy: 0.7239 - val_loss: 0.6172 - val_accuracy: 0.7174\n",
      "Epoch 8/100\n",
      "313/313 [==============================] - 10s 31ms/step - loss: 0.6020 - accuracy: 0.7398 - val_loss: 0.6007 - val_accuracy: 0.7332\n",
      "Epoch 9/100\n",
      "313/313 [==============================] - 10s 31ms/step - loss: 0.5855 - accuracy: 0.7518 - val_loss: 0.5942 - val_accuracy: 0.7312\n",
      "Epoch 10/100\n",
      "313/313 [==============================] - 10s 31ms/step - loss: 0.5700 - accuracy: 0.7620 - val_loss: 0.5750 - val_accuracy: 0.7446\n",
      "Epoch 11/100\n",
      "313/313 [==============================] - 10s 31ms/step - loss: 0.5552 - accuracy: 0.7710 - val_loss: 0.5629 - val_accuracy: 0.7598\n",
      "Epoch 12/100\n",
      "313/313 [==============================] - 10s 31ms/step - loss: 0.5414 - accuracy: 0.7771 - val_loss: 0.5500 - val_accuracy: 0.7618\n",
      "Epoch 13/100\n",
      "313/313 [==============================] - 10s 31ms/step - loss: 0.5295 - accuracy: 0.7823 - val_loss: 0.5398 - val_accuracy: 0.7670\n",
      "Epoch 14/100\n",
      "313/313 [==============================] - 10s 31ms/step - loss: 0.5172 - accuracy: 0.7880 - val_loss: 0.5301 - val_accuracy: 0.7696\n",
      "Epoch 15/100\n",
      "313/313 [==============================] - 10s 31ms/step - loss: 0.5059 - accuracy: 0.7922 - val_loss: 0.5256 - val_accuracy: 0.7664\n",
      "Epoch 16/100\n",
      "313/313 [==============================] - 10s 31ms/step - loss: 0.4954 - accuracy: 0.7978 - val_loss: 0.5151 - val_accuracy: 0.7722\n",
      "Epoch 17/100\n",
      "313/313 [==============================] - 10s 31ms/step - loss: 0.4856 - accuracy: 0.8009 - val_loss: 0.5206 - val_accuracy: 0.7600\n",
      "Epoch 18/100\n",
      "313/313 [==============================] - 10s 31ms/step - loss: 0.4784 - accuracy: 0.8008 - val_loss: 0.5004 - val_accuracy: 0.7778\n",
      "Epoch 19/100\n",
      "313/313 [==============================] - 10s 31ms/step - loss: 0.4694 - accuracy: 0.8048 - val_loss: 0.4970 - val_accuracy: 0.7784\n",
      "Epoch 20/100\n",
      "313/313 [==============================] - 10s 31ms/step - loss: 0.4624 - accuracy: 0.8072 - val_loss: 0.4911 - val_accuracy: 0.7794\n",
      "Epoch 21/100\n",
      "313/313 [==============================] - 10s 31ms/step - loss: 0.4563 - accuracy: 0.8090 - val_loss: 0.4879 - val_accuracy: 0.7786\n",
      "Epoch 22/100\n",
      "313/313 [==============================] - 10s 31ms/step - loss: 0.4502 - accuracy: 0.8106 - val_loss: 0.4919 - val_accuracy: 0.7738\n",
      "Epoch 23/100\n",
      "313/313 [==============================] - 10s 31ms/step - loss: 0.4449 - accuracy: 0.8128 - val_loss: 0.4830 - val_accuracy: 0.7784\n",
      "Epoch 24/100\n",
      "313/313 [==============================] - 10s 31ms/step - loss: 0.4395 - accuracy: 0.8128 - val_loss: 0.4800 - val_accuracy: 0.7792\n",
      "Epoch 25/100\n",
      "313/313 [==============================] - 10s 31ms/step - loss: 0.4364 - accuracy: 0.8147 - val_loss: 0.4767 - val_accuracy: 0.7798\n",
      "Epoch 26/100\n",
      "313/313 [==============================] - 10s 31ms/step - loss: 0.4310 - accuracy: 0.8181 - val_loss: 0.4807 - val_accuracy: 0.7780\n",
      "Epoch 27/100\n",
      "313/313 [==============================] - 10s 31ms/step - loss: 0.4281 - accuracy: 0.8191 - val_loss: 0.4751 - val_accuracy: 0.7806\n",
      "Epoch 28/100\n",
      "313/313 [==============================] - 10s 31ms/step - loss: 0.4249 - accuracy: 0.8196 - val_loss: 0.4703 - val_accuracy: 0.7834\n",
      "Epoch 29/100\n",
      "313/313 [==============================] - 10s 31ms/step - loss: 0.4213 - accuracy: 0.8219 - val_loss: 0.4795 - val_accuracy: 0.7800\n",
      "Epoch 30/100\n",
      "313/313 [==============================] - 10s 31ms/step - loss: 0.4185 - accuracy: 0.8230 - val_loss: 0.4745 - val_accuracy: 0.7778\n",
      "Epoch 31/100\n",
      "313/313 [==============================] - 10s 31ms/step - loss: 0.4154 - accuracy: 0.8237 - val_loss: 0.4742 - val_accuracy: 0.7776\n"
     ]
    }
   ],
   "source": [
    "rmsprop = keras.optimizers.RMSprop(learning_rate=1e-4)\n",
    "model2.compile(optimizer=rmsprop, loss='binary_crossentropy', \n",
    "               metrics=['accuracy'])\n",
    "\n",
    "checkpoint_cb = keras.callbacks.ModelCheckpoint('best-embedding-model.h5', \n",
    "                                                save_best_only=True)\n",
    "early_stopping_cb = keras.callbacks.EarlyStopping(patience=3,\n",
    "                                                  restore_best_weights=True)\n",
    "\n",
    "history = model2.fit(train_seq, train_target, epochs=100, batch_size=64,\n",
    "                     validation_data=(val_seq, val_target),\n",
    "                     callbacks=[checkpoint_cb, early_stopping_cb])"
   ]
  },
  {
   "cell_type": "code",
   "execution_count": 29,
   "metadata": {
    "colab": {
     "base_uri": "https://localhost:8080/",
     "height": 282
    },
    "id": "brUvKwLt6kQb",
    "outputId": "c9907bb0-000c-4c7f-fe2c-ce8128bac52b",
    "tags": []
   },
   "outputs": [
    {
     "data": {
      "image/png": "[encoded data removed]",
      "text/plain": [
       "<Figure size 432x288 with 1 Axes>"
      ]
     },
     "metadata": {
      "needs_background": "light"
     },
     "output_type": "display_data"
    }
   ],
   "source": [
    "plt.plot(history.history['loss'])\n",
    "plt.plot(history.history['val_loss'])\n",
    "plt.xlabel('epoch')\n",
    "plt.ylabel('loss')\n",
    "plt.legend(['train', 'val'])\n",
    "plt.show()"
   ]
  }
 ],
 "metadata": {
  "accelerator": "GPU",
  "colab": {
   "name": "9-2.ipynb",
   "provenance": []
  },
  "kernelspec": {
   "display_name": "default:Python",
   "language": "python",
   "name": "conda-env-default-py"
  },
  "language_info": {
   "codemirror_mode": {
    "name": "ipython",
    "version": 3
   },
   "file_extension": ".py",
   "mimetype": "text/x-python",
   "name": "python",
   "nbconvert_exporter": "python",
   "pygments_lexer": "ipython3",
   "version": "3.9.10"
  }
 },
 "nbformat": 4,
 "nbformat_minor": 4
}
