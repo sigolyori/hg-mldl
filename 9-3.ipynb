{
 "cells": [
  {
   "cell_type": "markdown",
   "metadata": {
    "id": "AlaMdWF26k2H"
   },
   "source": [
    "# LSTM과 GRU 셀"
   ]
  },
  {
   "cell_type": "markdown",
   "metadata": {
    "id": "o_Csb7v96k2M"
   },
   "source": [
    "<table align=\"left\">\n",
    "  <td>\n",
    "    <a target=\"_blank\" href=\"https://colab.research.google.com/github/rickiepark/hg-mldl/blob/master/9-3.ipynb\"><img src=\"https://www.tensorflow.org/images/colab_logo_32px.png\" />구글 코랩에서 실행하기</a>\n",
    "  </td>\n",
    "</table>"
   ]
  },
  {
   "cell_type": "code",
   "execution_count": 1,
   "metadata": {},
   "outputs": [],
   "source": [
    "# 실행마다 동일한 결과를 얻기 위해 케라스에 랜덤 시드를 사용하고 텐서플로 연산을 결정적으로 만듭니다. \n",
    "import tensorflow as tf\n",
    "\n",
    "tf.keras.utils.set_random_seed(42)\n",
    "tf.config.experimental.enable_op_determinism()"
   ]
  },
  {
   "cell_type": "markdown",
   "metadata": {
    "id": "KWi9yl0q6k2N"
   },
   "source": [
    "## LSTM 신경망 훈련하기"
   ]
  },
  {
   "cell_type": "code",
   "execution_count": 2,
   "metadata": {
    "colab": {
     "base_uri": "https://localhost:8080/"
    },
    "id": "XL7x0NCx6k2N",
    "outputId": "d5c9f55e-6a51-49b7-e739-d2242adddcae"
   },
   "outputs": [],
   "source": [
    "from tensorflow.keras.datasets import imdb\n",
    "from sklearn.model_selection import train_test_split\n",
    "\n",
    "(train_input, train_target), (test_input, test_target) = imdb.load_data(\n",
    "    num_words=500)\n",
    "\n",
    "train_input, val_input, train_target, val_target = train_test_split(\n",
    "    train_input, train_target, test_size=0.2, random_state=42)"
   ]
  },
  {
   "cell_type": "code",
   "execution_count": 3,
   "metadata": {
    "id": "5bjJ14QJ6k2O"
   },
   "outputs": [],
   "source": [
    "from tensorflow.keras.preprocessing.sequence import pad_sequences\n",
    "\n",
    "train_seq = pad_sequences(train_input, maxlen=100)\n",
    "val_seq = pad_sequences(val_input, maxlen=100)"
   ]
  },
  {
   "cell_type": "code",
   "execution_count": 4,
   "metadata": {
    "colab": {
     "base_uri": "https://localhost:8080/"
    },
    "id": "uMlTD4zv6k2O",
    "outputId": "dc7c0080-f72c-4032-caf4-1a8e63202989"
   },
   "outputs": [
    {
     "name": "stderr",
     "output_type": "stream",
     "text": [
      "2022-05-19 01:09:45.861217: I tensorflow/core/platform/cpu_feature_guard.cc:193] This TensorFlow binary is optimized with oneAPI Deep Neural Network Library (oneDNN) to use the following CPU instructions in performance-critical operations:  AVX2 AVX512F FMA\n",
      "To enable them in other operations, rebuild TensorFlow with the appropriate compiler flags.\n"
     ]
    },
    {
     "name": "stdout",
     "output_type": "stream",
     "text": [
      "Model: \"sequential\"\n",
      "_________________________________________________________________\n",
      " Layer (type)                Output Shape              Param #   \n",
      "=================================================================\n",
      " embedding (Embedding)       (None, 100, 16)           8000      \n",
      "                                                                 \n",
      " lstm (LSTM)                 (None, 8)                 800       \n",
      "                                                                 \n",
      " dense (Dense)               (None, 1)                 9         \n",
      "                                                                 \n",
      "=================================================================\n",
      "Total params: 8,809\n",
      "Trainable params: 8,809\n",
      "Non-trainable params: 0\n",
      "_________________________________________________________________\n"
     ]
    }
   ],
   "source": [
    "from tensorflow import keras\n",
    "\n",
    "model = keras.Sequential()\n",
    "\n",
    "model.add(keras.layers.Embedding(500, 16, input_length=100))\n",
    "model.add(keras.layers.LSTM(8))\n",
    "model.add(keras.layers.Dense(1, activation='sigmoid'))\n",
    "\n",
    "model.summary()"
   ]
  },
  {
   "cell_type": "code",
   "execution_count": 5,
   "metadata": {
    "colab": {
     "base_uri": "https://localhost:8080/"
    },
    "id": "nCmqOkjI6k2P",
    "outputId": "5057828c-5f90-48a5-fafa-c31f7407cc4c"
   },
   "outputs": [
    {
     "name": "stdout",
     "output_type": "stream",
     "text": [
      "Epoch 1/100\n",
      "313/313 [==============================] - 32s 82ms/step - loss: 0.6929 - accuracy: 0.5323 - val_loss: 0.6925 - val_accuracy: 0.5726\n",
      "Epoch 2/100\n",
      "313/313 [==============================] - 24s 76ms/step - loss: 0.6919 - accuracy: 0.5972 - val_loss: 0.6912 - val_accuracy: 0.6094\n",
      "Epoch 3/100\n",
      "313/313 [==============================] - 23s 75ms/step - loss: 0.6898 - accuracy: 0.6294 - val_loss: 0.6882 - val_accuracy: 0.6416\n",
      "Epoch 4/100\n",
      "313/313 [==============================] - 20s 65ms/step - loss: 0.6836 - accuracy: 0.6403 - val_loss: 0.6748 - val_accuracy: 0.6042\n",
      "Epoch 5/100\n",
      "313/313 [==============================] - 20s 65ms/step - loss: 0.6516 - accuracy: 0.6451 - val_loss: 0.6272 - val_accuracy: 0.7228\n",
      "Epoch 6/100\n",
      "313/313 [==============================] - 20s 64ms/step - loss: 0.6135 - accuracy: 0.7420 - val_loss: 0.6022 - val_accuracy: 0.7450\n",
      "Epoch 7/100\n",
      "313/313 [==============================] - 21s 66ms/step - loss: 0.5929 - accuracy: 0.7517 - val_loss: 0.5874 - val_accuracy: 0.7494\n",
      "Epoch 8/100\n",
      "313/313 [==============================] - 20s 65ms/step - loss: 0.5739 - accuracy: 0.7623 - val_loss: 0.5673 - val_accuracy: 0.7616\n",
      "Epoch 9/100\n",
      "313/313 [==============================] - 20s 65ms/step - loss: 0.5532 - accuracy: 0.7678 - val_loss: 0.5471 - val_accuracy: 0.7682\n",
      "Epoch 10/100\n",
      "313/313 [==============================] - 20s 65ms/step - loss: 0.5318 - accuracy: 0.7753 - val_loss: 0.5275 - val_accuracy: 0.7720\n",
      "Epoch 11/100\n",
      "313/313 [==============================] - 20s 65ms/step - loss: 0.5127 - accuracy: 0.7814 - val_loss: 0.5105 - val_accuracy: 0.7760\n",
      "Epoch 12/100\n",
      "313/313 [==============================] - 20s 65ms/step - loss: 0.4972 - accuracy: 0.7871 - val_loss: 0.4976 - val_accuracy: 0.7772\n",
      "Epoch 13/100\n",
      "313/313 [==============================] - 20s 65ms/step - loss: 0.4845 - accuracy: 0.7946 - val_loss: 0.4867 - val_accuracy: 0.7888\n",
      "Epoch 14/100\n",
      "313/313 [==============================] - 20s 65ms/step - loss: 0.4738 - accuracy: 0.7976 - val_loss: 0.4786 - val_accuracy: 0.7856\n",
      "Epoch 15/100\n",
      "313/313 [==============================] - 20s 65ms/step - loss: 0.4652 - accuracy: 0.7994 - val_loss: 0.4761 - val_accuracy: 0.7844\n",
      "Epoch 16/100\n",
      "313/313 [==============================] - 21s 66ms/step - loss: 0.4573 - accuracy: 0.8017 - val_loss: 0.4644 - val_accuracy: 0.7930\n",
      "Epoch 17/100\n",
      "313/313 [==============================] - 15s 48ms/step - loss: 0.4503 - accuracy: 0.8032 - val_loss: 0.4604 - val_accuracy: 0.7956\n",
      "Epoch 18/100\n",
      "313/313 [==============================] - 14s 45ms/step - loss: 0.4442 - accuracy: 0.8056 - val_loss: 0.4540 - val_accuracy: 0.7958\n",
      "Epoch 19/100\n",
      "313/313 [==============================] - 14s 45ms/step - loss: 0.4386 - accuracy: 0.8078 - val_loss: 0.4518 - val_accuracy: 0.7958\n",
      "Epoch 20/100\n",
      "313/313 [==============================] - 15s 48ms/step - loss: 0.4336 - accuracy: 0.8093 - val_loss: 0.4471 - val_accuracy: 0.7948\n",
      "Epoch 21/100\n",
      "313/313 [==============================] - 15s 49ms/step - loss: 0.4302 - accuracy: 0.8095 - val_loss: 0.4435 - val_accuracy: 0.7956\n",
      "Epoch 22/100\n",
      "313/313 [==============================] - 14s 45ms/step - loss: 0.4267 - accuracy: 0.8120 - val_loss: 0.4447 - val_accuracy: 0.7974\n",
      "Epoch 23/100\n",
      "313/313 [==============================] - 14s 43ms/step - loss: 0.4240 - accuracy: 0.8120 - val_loss: 0.4406 - val_accuracy: 0.8008\n",
      "Epoch 24/100\n",
      "313/313 [==============================] - 14s 45ms/step - loss: 0.4212 - accuracy: 0.8123 - val_loss: 0.4398 - val_accuracy: 0.7964\n",
      "Epoch 25/100\n",
      "313/313 [==============================] - 14s 45ms/step - loss: 0.4191 - accuracy: 0.8121 - val_loss: 0.4357 - val_accuracy: 0.8008\n",
      "Epoch 26/100\n",
      "313/313 [==============================] - 14s 44ms/step - loss: 0.4172 - accuracy: 0.8134 - val_loss: 0.4354 - val_accuracy: 0.7996\n",
      "Epoch 27/100\n",
      "313/313 [==============================] - 14s 44ms/step - loss: 0.4156 - accuracy: 0.8142 - val_loss: 0.4334 - val_accuracy: 0.8002\n",
      "Epoch 28/100\n",
      "313/313 [==============================] - 14s 45ms/step - loss: 0.4143 - accuracy: 0.8145 - val_loss: 0.4336 - val_accuracy: 0.8014\n",
      "Epoch 29/100\n",
      "313/313 [==============================] - 14s 45ms/step - loss: 0.4127 - accuracy: 0.8138 - val_loss: 0.4352 - val_accuracy: 0.8044\n",
      "Epoch 30/100\n",
      "313/313 [==============================] - 14s 45ms/step - loss: 0.4111 - accuracy: 0.8149 - val_loss: 0.4337 - val_accuracy: 0.7972\n"
     ]
    }
   ],
   "source": [
    "rmsprop = keras.optimizers.RMSprop(learning_rate=1e-4)\n",
    "model.compile(optimizer=rmsprop, loss='binary_crossentropy', \n",
    "              metrics=['accuracy'])\n",
    "\n",
    "checkpoint_cb = keras.callbacks.ModelCheckpoint('best-lstm-model.h5', \n",
    "                                                save_best_only=True)\n",
    "early_stopping_cb = keras.callbacks.EarlyStopping(patience=3,\n",
    "                                                  restore_best_weights=True)\n",
    "\n",
    "history = model.fit(train_seq, train_target, epochs=100, batch_size=64,\n",
    "                    validation_data=(val_seq, val_target),\n",
    "                    callbacks=[checkpoint_cb, early_stopping_cb])"
   ]
  },
  {
   "cell_type": "code",
   "execution_count": 6,
   "metadata": {
    "colab": {
     "base_uri": "https://localhost:8080/",
     "height": 279
    },
    "id": "Xl1bliNr6k2Q",
    "outputId": "4e6792a9-2118-4498-a4cb-f0b39d1609c0"
   },
   "outputs": [
    {
     "data": {
      "image/png": "[encoded data removed]",
      "text/plain": [
       "<Figure size 432x288 with 1 Axes>"
      ]
     },
     "metadata": {
      "needs_background": "light"
     },
     "output_type": "display_data"
    }
   ],
   "source": [
    "import matplotlib.pyplot as plt\n",
    "\n",
    "plt.plot(history.history['loss'])\n",
    "plt.plot(history.history['val_loss'])\n",
    "plt.xlabel('epoch')\n",
    "plt.ylabel('loss')\n",
    "plt.legend(['train', 'val'])\n",
    "plt.show()"
   ]
  },
  {
   "cell_type": "markdown",
   "metadata": {
    "id": "ob79h7Kc6k2Q"
   },
   "source": [
    "## 순환 층에 드롭아웃 적용하기"
   ]
  },
  {
   "cell_type": "code",
   "execution_count": 7,
   "metadata": {
    "id": "Fr0DUR-Y6k2R"
   },
   "outputs": [],
   "source": [
    "model2 = keras.Sequential()\n",
    "\n",
    "model2.add(keras.layers.Embedding(500, 16, input_length=100))\n",
    "model2.add(keras.layers.LSTM(8, dropout=0.3))\n",
    "model2.add(keras.layers.Dense(1, activation='sigmoid'))"
   ]
  },
  {
   "cell_type": "code",
   "execution_count": null,
   "metadata": {
    "colab": {
     "base_uri": "https://localhost:8080/"
    },
    "id": "Ap8XxUO46k2R",
    "outputId": "5953909f-5c48-43e9-b321-8b5f3ed0d52a"
   },
   "outputs": [
    {
     "name": "stdout",
     "output_type": "stream",
     "text": [
      "Epoch 1/100\n",
      "313/313 [==============================] - 17s 48ms/step - loss: 0.6922 - accuracy: 0.5444 - val_loss: 0.6913 - val_accuracy: 0.5866\n",
      "Epoch 2/100\n",
      "313/313 [==============================] - 15s 47ms/step - loss: 0.6895 - accuracy: 0.6078 - val_loss: 0.6876 - val_accuracy: 0.6286\n",
      "Epoch 3/100\n",
      "313/313 [==============================] - 14s 46ms/step - loss: 0.6773 - accuracy: 0.6223 - val_loss: 0.6594 - val_accuracy: 0.6374\n",
      "Epoch 4/100\n",
      "313/313 [==============================] - 15s 46ms/step - loss: 0.6324 - accuracy: 0.7042 - val_loss: 0.6222 - val_accuracy: 0.7142\n",
      "Epoch 5/100\n",
      "313/313 [==============================] - 14s 46ms/step - loss: 0.6041 - accuracy: 0.7265 - val_loss: 0.5985 - val_accuracy: 0.7220\n",
      "Epoch 6/100\n",
      "313/313 [==============================] - 14s 46ms/step - loss: 0.5869 - accuracy: 0.7337 - val_loss: 0.5803 - val_accuracy: 0.7422\n",
      "Epoch 7/100\n",
      "313/313 [==============================] - 14s 45ms/step - loss: 0.5699 - accuracy: 0.7424 - val_loss: 0.5628 - val_accuracy: 0.7490\n",
      "Epoch 8/100\n",
      "313/313 [==============================] - 14s 45ms/step - loss: 0.5526 - accuracy: 0.7555 - val_loss: 0.5449 - val_accuracy: 0.7592\n",
      "Epoch 9/100\n",
      "313/313 [==============================] - 15s 47ms/step - loss: 0.5365 - accuracy: 0.7639 - val_loss: 0.5295 - val_accuracy: 0.7674\n",
      "Epoch 10/100\n",
      "313/313 [==============================] - 14s 46ms/step - loss: 0.5197 - accuracy: 0.7710 - val_loss: 0.5150 - val_accuracy: 0.7724\n",
      "Epoch 11/100\n",
      "313/313 [==============================] - 14s 45ms/step - loss: 0.5071 - accuracy: 0.7765 - val_loss: 0.5010 - val_accuracy: 0.7842\n",
      "Epoch 12/100\n",
      "313/313 [==============================] - 14s 46ms/step - loss: 0.4953 - accuracy: 0.7820 - val_loss: 0.4899 - val_accuracy: 0.7870\n",
      "Epoch 13/100\n",
      "313/313 [==============================] - 14s 46ms/step - loss: 0.4842 - accuracy: 0.7852 - val_loss: 0.4819 - val_accuracy: 0.7934\n",
      "Epoch 14/100\n",
      "313/313 [==============================] - 14s 46ms/step - loss: 0.4746 - accuracy: 0.7934 - val_loss: 0.4745 - val_accuracy: 0.7906\n",
      "Epoch 15/100\n",
      "313/313 [==============================] - 14s 45ms/step - loss: 0.4658 - accuracy: 0.7962 - val_loss: 0.4722 - val_accuracy: 0.7866\n",
      "Epoch 16/100\n",
      "313/313 [==============================] - 15s 46ms/step - loss: 0.4614 - accuracy: 0.7968 - val_loss: 0.4634 - val_accuracy: 0.7910\n",
      "Epoch 17/100\n",
      "313/313 [==============================] - 14s 46ms/step - loss: 0.4561 - accuracy: 0.7973 - val_loss: 0.4621 - val_accuracy: 0.7888\n",
      "Epoch 18/100\n",
      "313/313 [==============================] - 14s 46ms/step - loss: 0.4514 - accuracy: 0.8000 - val_loss: 0.4553 - val_accuracy: 0.7972\n",
      "Epoch 19/100\n",
      "313/313 [==============================] - 15s 47ms/step - loss: 0.4476 - accuracy: 0.8001 - val_loss: 0.4526 - val_accuracy: 0.7950\n",
      "Epoch 20/100\n",
      "313/313 [==============================] - 14s 46ms/step - loss: 0.4452 - accuracy: 0.8016 - val_loss: 0.4504 - val_accuracy: 0.7958\n",
      "Epoch 21/100\n",
      "313/313 [==============================] - 14s 46ms/step - loss: 0.4403 - accuracy: 0.8026 - val_loss: 0.4486 - val_accuracy: 0.7960\n",
      "Epoch 22/100\n",
      "313/313 [==============================] - 14s 44ms/step - loss: 0.4394 - accuracy: 0.8044 - val_loss: 0.4492 - val_accuracy: 0.7942\n",
      "Epoch 23/100\n",
      "313/313 [==============================] - 14s 46ms/step - loss: 0.4363 - accuracy: 0.8047 - val_loss: 0.4448 - val_accuracy: 0.7978\n",
      "Epoch 24/100\n",
      "313/313 [==============================] - 14s 46ms/step - loss: 0.4344 - accuracy: 0.8039 - val_loss: 0.4443 - val_accuracy: 0.7956\n",
      "Epoch 25/100\n",
      "313/313 [==============================] - 15s 47ms/step - loss: 0.4325 - accuracy: 0.8037 - val_loss: 0.4427 - val_accuracy: 0.7978\n",
      "Epoch 26/100\n",
      "313/313 [==============================] - 14s 46ms/step - loss: 0.4304 - accuracy: 0.8061 - val_loss: 0.4408 - val_accuracy: 0.7990\n",
      "Epoch 27/100\n",
      "313/313 [==============================] - 14s 45ms/step - loss: 0.4276 - accuracy: 0.8091 - val_loss: 0.4395 - val_accuracy: 0.8002\n",
      "Epoch 28/100\n",
      "313/313 [==============================] - 14s 46ms/step - loss: 0.4256 - accuracy: 0.8094 - val_loss: 0.4389 - val_accuracy: 0.7970\n",
      "Epoch 29/100\n",
      "313/313 [==============================] - 14s 46ms/step - loss: 0.4251 - accuracy: 0.8090 - val_loss: 0.4396 - val_accuracy: 0.7986\n",
      "Epoch 30/100\n",
      "313/313 [==============================] - 14s 46ms/step - loss: 0.4257 - accuracy: 0.8070 - val_loss: 0.4388 - val_accuracy: 0.7938\n",
      "Epoch 31/100\n",
      "313/313 [==============================] - 15s 46ms/step - loss: 0.4238 - accuracy: 0.8096 - val_loss: 0.4383 - val_accuracy: 0.7934\n",
      "Epoch 32/100\n",
      "313/313 [==============================] - 15s 48ms/step - loss: 0.4224 - accuracy: 0.8077 - val_loss: 0.4354 - val_accuracy: 0.7964\n",
      "Epoch 33/100\n",
      "313/313 [==============================] - 15s 47ms/step - loss: 0.4226 - accuracy: 0.8065 - val_loss: 0.4355 - val_accuracy: 0.7978\n",
      "Epoch 34/100\n",
      "313/313 [==============================] - 14s 46ms/step - loss: 0.4203 - accuracy: 0.8074 - val_loss: 0.4350 - val_accuracy: 0.7990\n",
      "Epoch 35/100\n",
      "313/313 [==============================] - 14s 45ms/step - loss: 0.4206 - accuracy: 0.8098 - val_loss: 0.4344 - val_accuracy: 0.8004\n",
      "Epoch 36/100\n",
      "313/313 [==============================] - 15s 46ms/step - loss: 0.4187 - accuracy: 0.8090 - val_loss: 0.4334 - val_accuracy: 0.7970\n",
      "Epoch 37/100\n",
      "313/313 [==============================] - 14s 45ms/step - loss: 0.4190 - accuracy: 0.8083 - val_loss: 0.4376 - val_accuracy: 0.7982\n",
      "Epoch 38/100\n",
      "313/313 [==============================] - 14s 45ms/step - loss: 0.4171 - accuracy: 0.8110 - val_loss: 0.4316 - val_accuracy: 0.8024\n",
      "Epoch 39/100\n",
      "313/313 [==============================] - 14s 46ms/step - loss: 0.4164 - accuracy: 0.8102 - val_loss: 0.4306 - val_accuracy: 0.8012\n",
      "Epoch 40/100\n",
      "313/313 [==============================] - 15s 48ms/step - loss: 0.4169 - accuracy: 0.8090 - val_loss: 0.4321 - val_accuracy: 0.7984\n",
      "Epoch 41/100\n",
      "313/313 [==============================] - 15s 50ms/step - loss: 0.4155 - accuracy: 0.8098 - val_loss: 0.4299 - val_accuracy: 0.8004\n",
      "Epoch 42/100\n",
      "313/313 [==============================] - 15s 46ms/step - loss: 0.4135 - accuracy: 0.8119 - val_loss: 0.4302 - val_accuracy: 0.8004\n",
      "Epoch 43/100\n",
      "313/313 [==============================] - 15s 48ms/step - loss: 0.4147 - accuracy: 0.8117 - val_loss: 0.4305 - val_accuracy: 0.8024\n",
      "Epoch 44/100\n",
      "313/313 [==============================] - 15s 47ms/step - loss: 0.4129 - accuracy: 0.8116 - val_loss: 0.4300 - val_accuracy: 0.8000\n"
     ]
    }
   ],
   "source": [
    "rmsprop = keras.optimizers.RMSprop(learning_rate=1e-4)\n",
    "model2.compile(optimizer=rmsprop, loss='binary_crossentropy', \n",
    "               metrics=['accuracy'])\n",
    "\n",
    "checkpoint_cb = keras.callbacks.ModelCheckpoint('best-dropout-model.h5', \n",
    "                                                save_best_only=True)\n",
    "early_stopping_cb = keras.callbacks.EarlyStopping(patience=3,\n",
    "                                                  restore_best_weights=True)\n",
    "\n",
    "history = model2.fit(train_seq, train_target, epochs=100, batch_size=64,\n",
    "                     validation_data=(val_seq, val_target),\n",
    "                     callbacks=[checkpoint_cb, early_stopping_cb])"
   ]
  },
  {
   "cell_type": "code",
   "execution_count": null,
   "metadata": {
    "colab": {
     "base_uri": "https://localhost:8080/",
     "height": 279
    },
    "id": "Qzwsp3pl6k2R",
    "outputId": "97305973-3c11-4c55-c466-a608273094cb"
   },
   "outputs": [
    {
     "data": {
      "image/png": "[encoded data removed]",
      "text/plain": [
       "<Figure size 432x288 with 1 Axes>"
      ]
     },
     "metadata": {
      "needs_background": "light"
     },
     "output_type": "display_data"
    }
   ],
   "source": [
    "plt.plot(history.history['loss'])\n",
    "plt.plot(history.history['val_loss'])\n",
    "plt.xlabel('epoch')\n",
    "plt.ylabel('loss')\n",
    "plt.legend(['train', 'val'])\n",
    "plt.show()"
   ]
  },
  {
   "cell_type": "markdown",
   "metadata": {
    "id": "DKtQByM96k2S"
   },
   "source": [
    "## 2개의 층을 연결하기"
   ]
  },
  {
   "cell_type": "code",
   "execution_count": null,
   "metadata": {
    "colab": {
     "base_uri": "https://localhost:8080/"
    },
    "id": "YkQboCpD6k2S",
    "outputId": "5f30a5ec-16a9-476a-95b6-3d55b36b64b4"
   },
   "outputs": [
    {
     "name": "stdout",
     "output_type": "stream",
     "text": [
      "Model: \"sequential_2\"\n",
      "_________________________________________________________________\n",
      " Layer (type)                Output Shape              Param #   \n",
      "=================================================================\n",
      " embedding_2 (Embedding)     (None, 100, 16)           8000      \n",
      "                                                                 \n",
      " lstm_2 (LSTM)               (None, 100, 8)            800       \n",
      "                                                                 \n",
      " lstm_3 (LSTM)               (None, 8)                 544       \n",
      "                                                                 \n",
      " dense_2 (Dense)             (None, 1)                 9         \n",
      "                                                                 \n",
      "=================================================================\n",
      "Total params: 9,353\n",
      "Trainable params: 9,353\n",
      "Non-trainable params: 0\n",
      "_________________________________________________________________\n"
     ]
    }
   ],
   "source": [
    "model3 = keras.Sequential()\n",
    "\n",
    "model3.add(keras.layers.Embedding(500, 16, input_length=100))\n",
    "model3.add(keras.layers.LSTM(8, dropout=0.3, return_sequences=True))\n",
    "model3.add(keras.layers.LSTM(8, dropout=0.3))\n",
    "model3.add(keras.layers.Dense(1, activation='sigmoid'))\n",
    "\n",
    "model3.summary()"
   ]
  },
  {
   "cell_type": "code",
   "execution_count": null,
   "metadata": {
    "colab": {
     "base_uri": "https://localhost:8080/"
    },
    "id": "hDk_ffAo6k2S",
    "outputId": "f7439e48-073f-4124-b10e-dea60f18f69d"
   },
   "outputs": [
    {
     "name": "stdout",
     "output_type": "stream",
     "text": [
      "Epoch 1/100\n",
      "313/313 [==============================] - 37s 106ms/step - loss: 0.6925 - accuracy: 0.5348 - val_loss: 0.6913 - val_accuracy: 0.6122\n",
      "Epoch 2/100\n",
      "313/313 [==============================] - 38s 121ms/step - loss: 0.6879 - accuracy: 0.6148 - val_loss: 0.6814 - val_accuracy: 0.6554\n",
      "Epoch 3/100\n",
      "313/313 [==============================] - 38s 120ms/step - loss: 0.6531 - accuracy: 0.6626 - val_loss: 0.6068 - val_accuracy: 0.7054\n",
      "Epoch 4/100\n",
      "313/313 [==============================] - 38s 122ms/step - loss: 0.5796 - accuracy: 0.7179 - val_loss: 0.5532 - val_accuracy: 0.7314\n",
      "Epoch 5/100\n",
      "313/313 [==============================] - 38s 121ms/step - loss: 0.5356 - accuracy: 0.7473 - val_loss: 0.5168 - val_accuracy: 0.7584\n",
      "Epoch 6/100\n",
      "313/313 [==============================] - 38s 123ms/step - loss: 0.5084 - accuracy: 0.7638 - val_loss: 0.4972 - val_accuracy: 0.7678\n",
      "Epoch 7/100\n",
      "313/313 [==============================] - 38s 121ms/step - loss: 0.4944 - accuracy: 0.7703 - val_loss: 0.4826 - val_accuracy: 0.7770\n",
      "Epoch 8/100\n",
      "313/313 [==============================] - 38s 121ms/step - loss: 0.4801 - accuracy: 0.7761 - val_loss: 0.4739 - val_accuracy: 0.7806\n",
      "Epoch 9/100\n",
      "313/313 [==============================] - 38s 122ms/step - loss: 0.4723 - accuracy: 0.7819 - val_loss: 0.4656 - val_accuracy: 0.7874\n",
      "Epoch 10/100\n",
      "313/313 [==============================] - 38s 121ms/step - loss: 0.4650 - accuracy: 0.7854 - val_loss: 0.4608 - val_accuracy: 0.7870\n",
      "Epoch 11/100\n",
      "313/313 [==============================] - 38s 122ms/step - loss: 0.4583 - accuracy: 0.7922 - val_loss: 0.4568 - val_accuracy: 0.7890\n",
      "Epoch 12/100\n",
      "313/313 [==============================] - 38s 121ms/step - loss: 0.4554 - accuracy: 0.7899 - val_loss: 0.4539 - val_accuracy: 0.7906\n",
      "Epoch 13/100\n",
      "313/313 [==============================] - 38s 122ms/step - loss: 0.4513 - accuracy: 0.7926 - val_loss: 0.4505 - val_accuracy: 0.7906\n",
      "Epoch 14/100\n",
      "313/313 [==============================] - 38s 121ms/step - loss: 0.4477 - accuracy: 0.7950 - val_loss: 0.4492 - val_accuracy: 0.7920\n",
      "Epoch 15/100\n",
      "313/313 [==============================] - 38s 121ms/step - loss: 0.4469 - accuracy: 0.7948 - val_loss: 0.4583 - val_accuracy: 0.7896\n",
      "Epoch 16/100\n",
      "313/313 [==============================] - 38s 121ms/step - loss: 0.4432 - accuracy: 0.7968 - val_loss: 0.4483 - val_accuracy: 0.7946\n",
      "Epoch 17/100\n",
      "313/313 [==============================] - 38s 122ms/step - loss: 0.4428 - accuracy: 0.7983 - val_loss: 0.4461 - val_accuracy: 0.7958\n",
      "Epoch 18/100\n",
      "313/313 [==============================] - 38s 121ms/step - loss: 0.4405 - accuracy: 0.7994 - val_loss: 0.4424 - val_accuracy: 0.7948\n",
      "Epoch 19/100\n",
      "313/313 [==============================] - 38s 122ms/step - loss: 0.4371 - accuracy: 0.7997 - val_loss: 0.4422 - val_accuracy: 0.7934\n",
      "Epoch 20/100\n",
      "313/313 [==============================] - 38s 122ms/step - loss: 0.4371 - accuracy: 0.8017 - val_loss: 0.4413 - val_accuracy: 0.7934\n",
      "Epoch 21/100\n",
      "313/313 [==============================] - 30s 97ms/step - loss: 0.4381 - accuracy: 0.7965 - val_loss: 0.4403 - val_accuracy: 0.7962\n",
      "Epoch 22/100\n",
      "313/313 [==============================] - 29s 93ms/step - loss: 0.4353 - accuracy: 0.7988 - val_loss: 0.4440 - val_accuracy: 0.7978\n",
      "Epoch 23/100\n",
      "313/313 [==============================] - 34s 108ms/step - loss: 0.4328 - accuracy: 0.8023 - val_loss: 0.4381 - val_accuracy: 0.7980\n",
      "Epoch 24/100\n",
      "313/313 [==============================] - 35s 111ms/step - loss: 0.4311 - accuracy: 0.8044 - val_loss: 0.4400 - val_accuracy: 0.7918\n",
      "Epoch 25/100\n",
      "313/313 [==============================] - 35s 111ms/step - loss: 0.4324 - accuracy: 0.8029 - val_loss: 0.4371 - val_accuracy: 0.7972\n",
      "Epoch 26/100\n",
      "313/313 [==============================] - 35s 112ms/step - loss: 0.4302 - accuracy: 0.8034 - val_loss: 0.4385 - val_accuracy: 0.7930\n",
      "Epoch 27/100\n",
      "313/313 [==============================] - 35s 112ms/step - loss: 0.4293 - accuracy: 0.8049 - val_loss: 0.4373 - val_accuracy: 0.7964\n",
      "Epoch 28/100\n",
      "313/313 [==============================] - 35s 112ms/step - loss: 0.4276 - accuracy: 0.8048 - val_loss: 0.4358 - val_accuracy: 0.7984\n",
      "Epoch 29/100\n",
      "313/313 [==============================] - 35s 112ms/step - loss: 0.4281 - accuracy: 0.8049 - val_loss: 0.4414 - val_accuracy: 0.7984\n",
      "Epoch 30/100\n",
      "313/313 [==============================] - 35s 112ms/step - loss: 0.4265 - accuracy: 0.8042 - val_loss: 0.4354 - val_accuracy: 0.7986\n",
      "Epoch 31/100\n",
      "313/313 [==============================] - 34s 108ms/step - loss: 0.4266 - accuracy: 0.8054 - val_loss: 0.4411 - val_accuracy: 0.7954\n",
      "Epoch 32/100\n",
      "313/313 [==============================] - 29s 93ms/step - loss: 0.4237 - accuracy: 0.8069 - val_loss: 0.4360 - val_accuracy: 0.7960\n",
      "Epoch 33/100\n",
      "313/313 [==============================] - 29s 94ms/step - loss: 0.4267 - accuracy: 0.8058 - val_loss: 0.4376 - val_accuracy: 0.8010\n"
     ]
    }
   ],
   "source": [
    "rmsprop = keras.optimizers.RMSprop(learning_rate=1e-4)\n",
    "model3.compile(optimizer=rmsprop, loss='binary_crossentropy', \n",
    "               metrics=['accuracy'])\n",
    "\n",
    "checkpoint_cb = keras.callbacks.ModelCheckpoint('best-2rnn-model.h5', \n",
    "                                                save_best_only=True)\n",
    "early_stopping_cb = keras.callbacks.EarlyStopping(patience=3,\n",
    "                                                  restore_best_weights=True)\n",
    "\n",
    "history = model3.fit(train_seq, train_target, epochs=100, batch_size=64,\n",
    "                     validation_data=(val_seq, val_target),\n",
    "                     callbacks=[checkpoint_cb, early_stopping_cb])"
   ]
  },
  {
   "cell_type": "code",
   "execution_count": null,
   "metadata": {
    "colab": {
     "base_uri": "https://localhost:8080/",
     "height": 279
    },
    "id": "1paBqczf6k2S",
    "outputId": "8dec69f9-2aa3-4b2f-f5c9-c0d2713ab4f6"
   },
   "outputs": [
    {
     "data": {
      "image/png": "[encoded data removed]",
      "text/plain": [
       "<Figure size 432x288 with 1 Axes>"
      ]
     },
     "metadata": {
      "needs_background": "light"
     },
     "output_type": "display_data"
    }
   ],
   "source": [
    "plt.plot(history.history['loss'])\n",
    "plt.plot(history.history['val_loss'])\n",
    "plt.xlabel('epoch')\n",
    "plt.ylabel('loss')\n",
    "plt.legend(['train', 'val'])\n",
    "plt.show()"
   ]
  },
  {
   "cell_type": "markdown",
   "metadata": {
    "id": "Jisn0P9h6k2T"
   },
   "source": [
    "## GRU 신경망 훈련하기"
   ]
  },
  {
   "cell_type": "code",
   "execution_count": null,
   "metadata": {
    "colab": {
     "base_uri": "https://localhost:8080/"
    },
    "id": "dwYF578d6k2T",
    "outputId": "72677151-359c-4d9c-9fd0-026c778f4ad5"
   },
   "outputs": [
    {
     "name": "stdout",
     "output_type": "stream",
     "text": [
      "Model: \"sequential_3\"\n",
      "_________________________________________________________________\n",
      " Layer (type)                Output Shape              Param #   \n",
      "=================================================================\n",
      " embedding_3 (Embedding)     (None, 100, 16)           8000      \n",
      "                                                                 \n",
      " gru (GRU)                   (None, 8)                 624       \n",
      "                                                                 \n",
      " dense_3 (Dense)             (None, 1)                 9         \n",
      "                                                                 \n",
      "=================================================================\n",
      "Total params: 8,633\n",
      "Trainable params: 8,633\n",
      "Non-trainable params: 0\n",
      "_________________________________________________________________\n"
     ]
    }
   ],
   "source": [
    "model4 = keras.Sequential()\n",
    "\n",
    "model4.add(keras.layers.Embedding(500, 16, input_length=100))\n",
    "model4.add(keras.layers.GRU(8))\n",
    "model4.add(keras.layers.Dense(1, activation='sigmoid'))\n",
    "\n",
    "model4.summary()"
   ]
  },
  {
   "cell_type": "code",
   "execution_count": null,
   "metadata": {
    "colab": {
     "base_uri": "https://localhost:8080/"
    },
    "id": "j2SfOZ3v6k2U",
    "outputId": "80bc83ae-1472-4c03-f372-92a6572e71b8"
   },
   "outputs": [
    {
     "name": "stdout",
     "output_type": "stream",
     "text": [
      "Epoch 1/100\n",
      "313/313 [==============================] - 19s 54ms/step - loss: 0.6918 - accuracy: 0.5375 - val_loss: 0.6907 - val_accuracy: 0.5656\n",
      "Epoch 2/100\n",
      "313/313 [==============================] - 17s 53ms/step - loss: 0.6886 - accuracy: 0.5808 - val_loss: 0.6873 - val_accuracy: 0.5856\n",
      "Epoch 3/100\n",
      "313/313 [==============================] - 17s 54ms/step - loss: 0.6837 - accuracy: 0.6059 - val_loss: 0.6817 - val_accuracy: 0.6072\n",
      "Epoch 4/100\n",
      "313/313 [==============================] - 17s 53ms/step - loss: 0.6757 - accuracy: 0.6232 - val_loss: 0.6725 - val_accuracy: 0.6268\n",
      "Epoch 5/100\n",
      "313/313 [==============================] - 17s 53ms/step - loss: 0.6624 - accuracy: 0.6420 - val_loss: 0.6571 - val_accuracy: 0.6442\n",
      "Epoch 6/100\n",
      "313/313 [==============================] - 16s 53ms/step - loss: 0.6395 - accuracy: 0.6623 - val_loss: 0.6286 - val_accuracy: 0.6694\n",
      "Epoch 7/100\n",
      "313/313 [==============================] - 17s 54ms/step - loss: 0.5935 - accuracy: 0.6938 - val_loss: 0.5715 - val_accuracy: 0.7118\n",
      "Epoch 8/100\n",
      "313/313 [==============================] - 16s 52ms/step - loss: 0.5433 - accuracy: 0.7318 - val_loss: 0.5383 - val_accuracy: 0.7374\n",
      "Epoch 9/100\n",
      "313/313 [==============================] - 16s 53ms/step - loss: 0.5195 - accuracy: 0.7487 - val_loss: 0.5266 - val_accuracy: 0.7432\n",
      "Epoch 10/100\n",
      "313/313 [==============================] - 17s 53ms/step - loss: 0.5057 - accuracy: 0.7571 - val_loss: 0.5126 - val_accuracy: 0.7540\n",
      "Epoch 11/100\n",
      "313/313 [==============================] - 17s 53ms/step - loss: 0.4933 - accuracy: 0.7677 - val_loss: 0.5004 - val_accuracy: 0.7644\n",
      "Epoch 12/100\n",
      "313/313 [==============================] - 16s 52ms/step - loss: 0.4834 - accuracy: 0.7737 - val_loss: 0.4914 - val_accuracy: 0.7676\n",
      "Epoch 13/100\n",
      "313/313 [==============================] - 17s 53ms/step - loss: 0.4741 - accuracy: 0.7785 - val_loss: 0.4856 - val_accuracy: 0.7700\n",
      "Epoch 14/100\n",
      "313/313 [==============================] - 17s 53ms/step - loss: 0.4676 - accuracy: 0.7836 - val_loss: 0.4795 - val_accuracy: 0.7806\n",
      "Epoch 15/100\n",
      "313/313 [==============================] - 17s 53ms/step - loss: 0.4610 - accuracy: 0.7880 - val_loss: 0.4757 - val_accuracy: 0.7824\n",
      "Epoch 16/100\n",
      "313/313 [==============================] - 16s 52ms/step - loss: 0.4545 - accuracy: 0.7925 - val_loss: 0.4686 - val_accuracy: 0.7856\n",
      "Epoch 17/100\n",
      "313/313 [==============================] - 16s 51ms/step - loss: 0.4496 - accuracy: 0.7949 - val_loss: 0.4638 - val_accuracy: 0.7850\n",
      "Epoch 18/100\n",
      "313/313 [==============================] - 16s 51ms/step - loss: 0.4452 - accuracy: 0.7986 - val_loss: 0.4601 - val_accuracy: 0.7832\n",
      "Epoch 19/100\n",
      "313/313 [==============================] - 16s 51ms/step - loss: 0.4411 - accuracy: 0.7989 - val_loss: 0.4575 - val_accuracy: 0.7840\n",
      "Epoch 20/100\n",
      "313/313 [==============================] - 17s 53ms/step - loss: 0.4375 - accuracy: 0.8026 - val_loss: 0.4542 - val_accuracy: 0.7872\n",
      "Epoch 21/100\n",
      "313/313 [==============================] - 17s 53ms/step - loss: 0.4348 - accuracy: 0.8037 - val_loss: 0.4529 - val_accuracy: 0.7878\n",
      "Epoch 22/100\n",
      "313/313 [==============================] - 16s 52ms/step - loss: 0.4324 - accuracy: 0.8044 - val_loss: 0.4532 - val_accuracy: 0.7922\n",
      "Epoch 23/100\n",
      "313/313 [==============================] - 16s 53ms/step - loss: 0.4301 - accuracy: 0.8075 - val_loss: 0.4506 - val_accuracy: 0.7928\n",
      "Epoch 24/100\n",
      "313/313 [==============================] - 16s 51ms/step - loss: 0.4276 - accuracy: 0.8078 - val_loss: 0.4486 - val_accuracy: 0.7904\n",
      "Epoch 25/100\n",
      "313/313 [==============================] - 16s 52ms/step - loss: 0.4264 - accuracy: 0.8095 - val_loss: 0.4478 - val_accuracy: 0.7920\n",
      "Epoch 26/100\n",
      "313/313 [==============================] - 16s 52ms/step - loss: 0.4242 - accuracy: 0.8090 - val_loss: 0.4508 - val_accuracy: 0.7868\n",
      "Epoch 27/100\n",
      "313/313 [==============================] - 16s 52ms/step - loss: 0.4231 - accuracy: 0.8128 - val_loss: 0.4470 - val_accuracy: 0.7914\n",
      "Epoch 28/100\n",
      "313/313 [==============================] - 17s 53ms/step - loss: 0.4222 - accuracy: 0.8115 - val_loss: 0.4471 - val_accuracy: 0.7894\n",
      "Epoch 29/100\n",
      "313/313 [==============================] - 16s 53ms/step - loss: 0.4208 - accuracy: 0.8134 - val_loss: 0.4510 - val_accuracy: 0.7922\n",
      "Epoch 30/100\n",
      "313/313 [==============================] - 16s 52ms/step - loss: 0.4194 - accuracy: 0.8136 - val_loss: 0.4485 - val_accuracy: 0.7874\n"
     ]
    }
   ],
   "source": [
    "rmsprop = keras.optimizers.RMSprop(learning_rate=1e-4)\n",
    "model4.compile(optimizer=rmsprop, loss='binary_crossentropy', \n",
    "               metrics=['accuracy'])\n",
    "\n",
    "checkpoint_cb = keras.callbacks.ModelCheckpoint('best-gru-model.h5', \n",
    "                                                save_best_only=True)\n",
    "early_stopping_cb = keras.callbacks.EarlyStopping(patience=3,\n",
    "                                                  restore_best_weights=True)\n",
    "\n",
    "history = model4.fit(train_seq, train_target, epochs=100, batch_size=64,\n",
    "                     validation_data=(val_seq, val_target),\n",
    "                     callbacks=[checkpoint_cb, early_stopping_cb])"
   ]
  },
  {
   "cell_type": "code",
   "execution_count": null,
   "metadata": {
    "colab": {
     "base_uri": "https://localhost:8080/",
     "height": 279
    },
    "id": "3yUJM4nA6k2U",
    "outputId": "cf86c235-1135-4d0f-93c2-08b7cb98ead7"
   },
   "outputs": [
    {
     "data": {
      "image/png": "[encoded data removed]",
      "text/plain": [
       "<Figure size 432x288 with 1 Axes>"
      ]
     },
     "metadata": {
      "needs_background": "light"
     },
     "output_type": "display_data"
    }
   ],
   "source": [
    "plt.plot(history.history['loss'])\n",
    "plt.plot(history.history['val_loss'])\n",
    "plt.xlabel('epoch')\n",
    "plt.ylabel('loss')\n",
    "plt.legend(['train', 'val'])\n",
    "plt.show()"
   ]
  },
  {
   "cell_type": "markdown",
   "metadata": {
    "id": "Ja3-116b6k2V"
   },
   "source": [
    "## 마무리"
   ]
  },
  {
   "cell_type": "code",
   "execution_count": null,
   "metadata": {
    "colab": {
     "base_uri": "https://localhost:8080/"
    },
    "id": "-5WtFRN-6k2V",
    "outputId": "dbbf3f1d-3cd9-49cf-bf90-233ecac13134",
    "tags": []
   },
   "outputs": [
    {
     "name": "stdout",
     "output_type": "stream",
     "text": [
      "782/782 [==============================] - 13s 16ms/step - loss: 0.4310 - accuracy: 0.7975\n"
     ]
    },
    {
     "data": {
      "text/plain": [
       "[0.43103745579719543, 0.7975199818611145]"
      ]
     },
     "execution_count": 16,
     "metadata": {},
     "output_type": "execute_result"
    }
   ],
   "source": [
    "test_seq = pad_sequences(test_input, maxlen=100)\n",
    "\n",
    "rnn_model = keras.models.load_model('best-2rnn-model.h5')\n",
    "\n",
    "rnn_model.evaluate(test_seq, test_target)"
   ]
  }
 ],
 "metadata": {
  "accelerator": "GPU",
  "colab": {
   "name": "9-3.ipynb",
   "provenance": []
  },
  "kernelspec": {
   "display_name": "default:Python",
   "language": "python",
   "name": "conda-env-default-py"
  },
  "language_info": {
   "codemirror_mode": {
    "name": "ipython",
    "version": 3
   },
   "file_extension": ".py",
   "mimetype": "text/x-python",
   "name": "python",
   "nbconvert_exporter": "python",
   "pygments_lexer": "ipython3",
   "version": "3.9.10"
  }
 },
 "nbformat": 4,
 "nbformat_minor": 4
}
